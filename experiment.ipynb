{
 "cells": [
  {
   "cell_type": "code",
   "execution_count": 23,
   "metadata": {},
   "outputs": [],
   "source": [
    "import yaml\n",
    "import itertools\n",
    "\n",
    "with open('sweep_definition.yaml', 'r') as file:\n",
    "    sweep_config = yaml.safe_load(file)\n",
    "\n",
    "dictionary = sweep_config['search_space']\n",
    "choices = [{key:sweep_config['search_space'][key].get(\"values\")} for key in dictionary.keys() if sweep_config['search_space'][key]]\n",
    "keys = [list(d.keys())[0] for d in choices]\n",
    "values = [list(d.values())[0] for d in choices]\n",
    "\n",
    "combinations = [dict(zip(keys, combination)) for combination in itertools.product(*values)]"
   ]
  },
  {
   "cell_type": "code",
   "execution_count": 24,
   "metadata": {},
   "outputs": [
    {
     "data": {
      "text/plain": [
       "[{'aoai_deployment_name': 'gpt4-vh'},\n",
       " {'aoai_deployment_name': 'gpt35-turbo-1106'}]"
      ]
     },
     "execution_count": 24,
     "metadata": {},
     "output_type": "execute_result"
    }
   ],
   "source": [
    "combinations"
   ]
  },
  {
   "cell_type": "code",
   "execution_count": 26,
   "metadata": {},
   "outputs": [
    {
     "name": "stdout",
     "output_type": "stream",
     "text": [
      "{'aoai_deployment_name': 'gpt4-vh', 'flow_name': 'grid_step_0', '_copy_without_render': ['*.jinja2', '.promptflow/*']}\n",
      "{'aoai_deployment_name': 'gpt35-turbo-1106', 'flow_name': 'grid_step_1', '_copy_without_render': ['*.jinja2', '.promptflow/*']}\n"
     ]
    }
   ],
   "source": [
    "import json\n",
    "import subprocess\n",
    "\n",
    "file_path = \"./rag_flow_template/cookiecutter.json\"\n",
    "with open(file_path, \"r\") as file:\n",
    "    data = json.load(file)\n",
    "\n",
    "for i, search_step_dict in enumerate(combinations):\n",
    "    data[\"flow_name\"] = f\"grid_step_{i}\"\n",
    "    for key in [\"aoai_deployment_name\", \"ai_search_index_name\"]:\n",
    "        if key in search_step_dict.keys():\n",
    "            data[key] = search_step_dict[key]\n",
    "    print(data)\n",
    "    with open(file_path, \"w\") as file:\n",
    "        json.dump(data, file, indent=4)\n",
    "    \n",
    "    subprocess.run([\"cd ./flow_versions && cookiecutter ../rag_flow_template --no-input --skip-if-file-exists\"], shell=True)\n"
   ]
  },
  {
   "cell_type": "code",
   "execution_count": 1,
   "metadata": {},
   "outputs": [
    {
     "name": "stderr",
     "output_type": "stream",
     "text": [
      "Found the config file in: /home/vhoudebine/config.json\n"
     ]
    }
   ],
   "source": [
    "from azure.identity import DefaultAzureCredential, InteractiveBrowserCredential\n",
    "from promptflow.azure import PFClient\n",
    "\n",
    "\n",
    "credential = DefaultAzureCredential()\n",
    "  \n",
    "# Get a handle to workspace, it will use config.json in current and parent directory.\n",
    "pf = PFClient.from_config(\n",
    "    credential=credential,\n",
    ")"
   ]
  },
  {
   "cell_type": "code",
   "execution_count": 27,
   "metadata": {},
   "outputs": [
    {
     "name": "stdout",
     "output_type": "stream",
     "text": [
      "Creating run for ./flow_versions/rag_flow_grid_step_0\n"
     ]
    },
    {
     "name": "stderr",
     "output_type": "stream",
     "text": [
      "\u001b[32mUploading rag_flow_grid_step_0 (0.0 MBs): 100%|██████████| 514/514 [00:00<00:00, 4185.59it/s]\n",
      "\u001b[39m\n",
      "\n",
      "[2024-04-04 20:04:31,062][promptflow][WARNING] - You're using automatic runtime, if it's first time you're using it, it may take a while to build runtime and you may see 'NotStarted' status for a while. \n"
     ]
    },
    {
     "name": "stdout",
     "output_type": "stream",
     "text": [
      "Portal url: https://ml.azure.com/runs/rag_flow_grid_step_0_variant_0_20240404_200429_297972?wsid=/subscriptions/6c065ea7-65cd-4a34-8e2a-3e21ad4a8e9f/resourcegroups/vince-rg/providers/Microsoft.MachineLearningServices/workspaces/vince-dev\n",
      "Created run rag_flow_grid_step_0_variant_0_20240404_200429_297972\n",
      "Creating run for ./flow_versions/rag_flow_grid_step_1\n"
     ]
    },
    {
     "name": "stderr",
     "output_type": "stream",
     "text": [
      "[2024-04-04 20:04:42,410][promptflow][WARNING] - You're using automatic runtime, if it's first time you're using it, it may take a while to build runtime and you may see 'NotStarted' status for a while. \n"
     ]
    },
    {
     "name": "stdout",
     "output_type": "stream",
     "text": [
      "Portal url: https://ml.azure.com/runs/rag_flow_grid_step_1_variant_0_20240404_200441_308304?wsid=/subscriptions/6c065ea7-65cd-4a34-8e2a-3e21ad4a8e9f/resourcegroups/vince-rg/providers/Microsoft.MachineLearningServices/workspaces/vince-dev\n",
      "Created run rag_flow_grid_step_1_variant_0_20240404_200441_308304\n"
     ]
    }
   ],
   "source": [
    "import os\n",
    "\n",
    "def create_and_run_flow(i):\n",
    "    # Apply your function to the dictionary here\n",
    "    flow = os.path.join(\"./flow_versions\", f\"rag_flow_grid_step_{i}\")\n",
    "    data =\"./data/data.jsonl\"\n",
    "    print(f\"Creating run for {flow}\")\n",
    "    # create run\n",
    "    base_run = pf.run(\n",
    "        flow=flow,\n",
    "        data=data,\n",
    "        column_mapping={\n",
    "        \"question\": \"${data.question}\"\n",
    "        }\n",
    "    )\n",
    "    print(f\"Created run {base_run.name}\")\n",
    "    return base_run\n",
    "\n",
    "\n",
    "# Create a thread for each dictionary\n",
    "runs = []\n",
    "for i, search_step_dict in enumerate(combinations):\n",
    "    run = create_and_run_flow(i)\n",
    "    runs.append(run)"
   ]
  },
  {
   "cell_type": "code",
   "execution_count": 28,
   "metadata": {},
   "outputs": [],
   "source": [
    "run = runs[0]"
   ]
  },
  {
   "cell_type": "code",
   "execution_count": 36,
   "metadata": {},
   "outputs": [],
   "source": []
  }
 ],
 "metadata": {
  "kernelspec": {
   "display_name": "openai",
   "language": "python",
   "name": "python3"
  },
  "language_info": {
   "codemirror_mode": {
    "name": "ipython",
    "version": 3
   },
   "file_extension": ".py",
   "mimetype": "text/x-python",
   "name": "python",
   "nbconvert_exporter": "python",
   "pygments_lexer": "ipython3",
   "version": "3.11.8"
  }
 },
 "nbformat": 4,
 "nbformat_minor": 2
}
