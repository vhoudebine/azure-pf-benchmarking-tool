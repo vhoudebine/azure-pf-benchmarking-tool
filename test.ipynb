{
 "cells": [
  {
   "cell_type": "code",
   "execution_count": 2,
   "metadata": {},
   "outputs": [],
   "source": [
    "from langchain_community.chat_models.azureml_endpoint import (\n",
    "    AzureMLEndpointApiType,\n",
    "    CustomOpenAIChatContentFormatter,\n",
    ")\n",
    "from langchain_community.chat_models.azureml_endpoint import AzureMLChatOnlineEndpoint\n",
    "\n"
   ]
  },
  {
   "cell_type": "code",
   "execution_count": 8,
   "metadata": {},
   "outputs": [
    {
     "data": {
      "text/plain": [
       "BaseMessage(content='The Collatz Conjecture, also known as the 3x+1 problem, is an unsolved problem in mathematics.\\n\\nWhether or not it will ever be solved is unknown. Despite much effort, mathematicians have not yet been able to find a counterexample to the conjecture, nor have they been able to prove that the conjecture is true.', response_metadata={'finish_reason': 'stop', 'logprobs': None}, type='assistant', id='run-e1118ca2-e83a-491f-b327-b11cc691baa5-0')"
      ]
     },
     "execution_count": 8,
     "metadata": {},
     "output_type": "execute_result"
    }
   ],
   "source": [
    "chat= AzureMLChatOnlineEndpoint(\n",
    "    endpoint_url=\"https://Mistral-large-bgktg-serverless.eastus2.inference.ai.azure.com/v1/chat/completions\",\n",
    "    endpoint_api_type=AzureMLEndpointApiType.serverless,\n",
    "    endpoint_api_key=\"dCfoEjeJEtRxw21b00Eo4tN2aOx5mFoY\",\n",
    "    content_formatter=CustomOpenAIChatContentFormatter(),\n",
    ")\n",
    "response = chat.invoke(\n",
    "    [HumanMessage(content=\"Will the Collatz conjecture ever be solved?\")]\n",
    ")\n",
    "response"
   ]
  },
  {
   "cell_type": "code",
   "execution_count": null,
   "metadata": {},
   "outputs": [],
   "source": []
  }
 ],
 "metadata": {
  "kernelspec": {
   "display_name": "openai",
   "language": "python",
   "name": "python3"
  },
  "language_info": {
   "codemirror_mode": {
    "name": "ipython",
    "version": 3
   },
   "file_extension": ".py",
   "mimetype": "text/x-python",
   "name": "python",
   "nbconvert_exporter": "python",
   "pygments_lexer": "ipython3",
   "version": "3.11.8"
  }
 },
 "nbformat": 4,
 "nbformat_minor": 2
}
